{
 "cells": [
  {
   "cell_type": "markdown",
   "metadata": {},
   "source": [
    "# Creating a web scraper for Zillow.com\n",
    "This scraper will search all of Zillow's listings for both recently sold and currently available single family homes in a specific state/county.\n",
    "\n",
    "## Helpful videos:\n",
    "https://www.youtube.com/watch?v=dRcvJRmqFHQ&ab_channel=WebScrapingwithAndy\n",
    "\n",
    "https://www.youtube.com/watch?v=a3Cuq2csLWk\n",
    "\n",
    "## Helpful websites:\n",
    "curl.trillworks.com"
   ]
  },
  {
   "cell_type": "code",
   "execution_count": 75,
   "metadata": {},
   "outputs": [],
   "source": [
    "# Import libraries\n",
    "from bs4 import BeautifulSoup\n",
    "import requests\n",
    "import pandas as pd\n",
    "import os\n",
    "import numpy as np\n",
    "import regex as re\n",
    "import time\n",
    "import json"
   ]
  },
  {
   "cell_type": "code",
   "execution_count": 76,
   "metadata": {},
   "outputs": [],
   "source": [
    "# Initial variables\n",
    "page = 0\n",
    "county = 'brevard'\n",
    "state = 'fl'\n",
    "url = 'https://www.zillow.com/'"
   ]
  },
  {
   "cell_type": "code",
   "execution_count": 77,
   "metadata": {},
   "outputs": [],
   "source": [
    "headers = {\n",
    "    'authority': 'www.zillow.com',\n",
    "    'accept': 'text/html,application/xhtml+xml,application/xml;q=0.9,image/avif,image/webp,image/apng,*/*;q=0.8,application/signed-exchange;v=b3;q=0.7',\n",
    "    'accept-language': 'en-US,en;q=0.9',\n",
    "    'cache-control': 'max-age=0',\n",
    "    'referer': 'https://www.zillow.com/',\n",
    "    'sec-ch-ua': '\"Not A(Brand\";v=\"99\", \"Google Chrome\";v=\"121\", \"Chromium\";v=\"121\"',\n",
    "    'sec-ch-ua-mobile': '?0',\n",
    "    'sec-ch-ua-platform': '\"macOS\"',\n",
    "    'sec-fetch-dest': 'document',\n",
    "    'sec-fetch-mode': 'navigate',\n",
    "    'sec-fetch-site': 'same-origin',\n",
    "    'sec-fetch-user': '?1',\n",
    "    'upgrade-insecure-requests': '1',\n",
    "    'user-agent': 'Mozilla/5.0 (Macintosh; Intel Mac OS X 10_15_7) AppleWebKit/537.36 (KHTML, like Gecko) Chrome/121.0.0.0 Safari/537.36',\n",
    "    }\n",
    "\n",
    "# response = requests.get(url=url, params=params, headers=headers)\n",
    "response = requests.get(url=url, headers=headers)"
   ]
  },
  {
   "cell_type": "code",
   "execution_count": 78,
   "metadata": {},
   "outputs": [
    {
     "name": "stdout",
     "output_type": "stream",
     "text": [
      "{'@type': 'SingleFamilyResidence', '@context': 'http://schema.org', 'name': '4945 Laguna Vista Dr, Melbourne, FL 32934', 'floorSize': {'@type': 'QuantitativeValue', '@context': 'http://schema.org', 'value': '2,234'}, 'address': {'@type': 'PostalAddress', '@context': 'http://schema.org', 'streetAddress': '4945 Laguna Vista Dr', 'addressLocality': 'Melbourne', 'addressRegion': 'FL', 'postalCode': '32934'}, 'geo': {'@type': 'GeoCoordinates', '@context': 'http://schema.org', 'latitude': 28.143036, 'longitude': -80.708885}, 'url': 'https://www.zillow.com/homedetails/4945-Laguna-Vista-Dr-Melbourne-FL-32934/43454629_zpid/'}\n",
      "{'@type': 'SingleFamilyResidence', '@context': 'http://schema.org', 'name': '6425 Stillwater Ave, Cocoa, FL 32927', 'floorSize': {'@type': 'QuantitativeValue', '@context': 'http://schema.org', 'value': '1,984'}, 'address': {'@type': 'PostalAddress', '@context': 'http://schema.org', 'streetAddress': '6425 Stillwater Ave', 'addressLocality': 'Cocoa', 'addressRegion': 'FL', 'postalCode': '32927'}, 'geo': {'@type': 'GeoCoordinates', '@context': 'http://schema.org', 'latitude': 28.471148, 'longitude': -80.80201}, 'url': 'https://www.zillow.com/homedetails/6425-Stillwater-Ave-Cocoa-FL-32927/43393692_zpid/'}\n",
      "{'@type': 'SingleFamilyResidence', '@context': 'http://schema.org', 'name': '4370 Highway 1, Grant Valkaria, FL 32949', 'floorSize': {'@type': 'QuantitativeValue', '@context': 'http://schema.org', 'value': '3,234'}, 'address': {'@type': 'PostalAddress', '@context': 'http://schema.org', 'streetAddress': '4370 Highway 1', 'addressLocality': 'Grant Valkaria', 'addressRegion': 'FL', 'postalCode': '32949'}, 'geo': {'@type': 'GeoCoordinates', '@context': 'http://schema.org', 'latitude': 27.948563, 'longitude': -80.535736}, 'url': 'https://www.zillow.com/homedetails/4370-Highway-1-Grant-Valkaria-FL-32949/71031798_zpid/'}\n",
      "{'@type': 'SingleFamilyResidence', '@context': 'http://schema.org', 'name': '3430 Sandpiper Ct, Melbourne, FL 32935', 'floorSize': {'@type': 'QuantitativeValue', '@context': 'http://schema.org', 'value': '1,915'}, 'address': {'@type': 'PostalAddress', '@context': 'http://schema.org', 'streetAddress': '3430 Sandpiper Ct', 'addressLocality': 'Melbourne', 'addressRegion': 'FL', 'postalCode': '32935'}, 'geo': {'@type': 'GeoCoordinates', '@context': 'http://schema.org', 'latitude': 28.16173, 'longitude': -80.651695}, 'url': 'https://www.zillow.com/homedetails/3430-Sandpiper-Ct-Melbourne-FL-32935/66681273_zpid/'}\n",
      "{'@type': 'SingleFamilyResidence', '@context': 'http://schema.org', 'name': '670 Bluefields St SE, Palm Bay, FL 32909', 'floorSize': {'@type': 'QuantitativeValue', '@context': 'http://schema.org', 'value': '1,120'}, 'address': {'@type': 'PostalAddress', '@context': 'http://schema.org', 'streetAddress': '670 Bluefields St SE', 'addressLocality': 'Palm Bay', 'addressRegion': 'FL', 'postalCode': '32909'}, 'geo': {'@type': 'GeoCoordinates', '@context': 'http://schema.org', 'latitude': 27.984524, 'longitude': -80.655075}, 'url': 'https://www.zillow.com/homedetails/670-Bluefields-St-SE-Palm-Bay-FL-32909/43511910_zpid/'}\n",
      "{'@type': 'SingleFamilyResidence', '@context': 'http://schema.org', 'name': '118 Forrell Ave, Titusville, FL 32796', 'floorSize': {'@type': 'QuantitativeValue', '@context': 'http://schema.org', 'value': '1,725'}, 'address': {'@type': 'PostalAddress', '@context': 'http://schema.org', 'streetAddress': '118 Forrell Ave', 'addressLocality': 'Titusville', 'addressRegion': 'FL', 'postalCode': '32796'}, 'geo': {'@type': 'GeoCoordinates', '@context': 'http://schema.org', 'latitude': 28.614016, 'longitude': -80.82337}, 'url': 'https://www.zillow.com/homedetails/118-Forrell-Ave-Titusville-FL-32796/2056382112_zpid/'}\n",
      "{'@type': 'SingleFamilyResidence', '@context': 'http://schema.org', 'name': '4648 Chastain Dr, Melbourne, FL 32940', 'floorSize': {'@type': 'QuantitativeValue', '@context': 'http://schema.org', 'value': '3,562'}, 'address': {'@type': 'PostalAddress', '@context': 'http://schema.org', 'streetAddress': '4648 Chastain Dr', 'addressLocality': 'Melbourne', 'addressRegion': 'FL', 'postalCode': '32940'}, 'geo': {'@type': 'GeoCoordinates', '@context': 'http://schema.org', 'latitude': 28.187843, 'longitude': -80.70435}, 'url': 'https://www.zillow.com/homedetails/4648-Chastain-Dr-Melbourne-FL-32940/80761009_zpid/'}\n",
      "{'@type': 'SingleFamilyResidence', '@context': 'http://schema.org', 'name': '746 Boc Cir NW, Palm Bay, FL 32907', 'floorSize': {'@type': 'QuantitativeValue', '@context': 'http://schema.org', 'value': '1,056'}, 'address': {'@type': 'PostalAddress', '@context': 'http://schema.org', 'streetAddress': '746 Boc Cir NW', 'addressLocality': 'Palm Bay', 'addressRegion': 'FL', 'postalCode': '32907'}, 'geo': {'@type': 'GeoCoordinates', '@context': 'http://schema.org', 'latitude': 28.03338, 'longitude': -80.69241}, 'url': 'https://www.zillow.com/homedetails/746-Boc-Cir-NW-Palm-Bay-FL-32907/43480881_zpid/'}\n",
      "{'@type': 'SingleFamilyResidence', '@context': 'http://schema.org', 'name': '3061 Sir Hamilton Cir #10, Titusville, FL 32780', 'floorSize': {'@type': 'QuantitativeValue', '@context': 'http://schema.org', 'value': '960'}, 'address': {'@type': 'PostalAddress', '@context': 'http://schema.org', 'streetAddress': '3061 Sir Hamilton Cir #10', 'addressLocality': 'Titusville', 'addressRegion': 'FL', 'postalCode': '32780'}, 'geo': {'@type': 'GeoCoordinates', '@context': 'http://schema.org', 'latitude': 28.5811, 'longitude': -80.80735}, 'url': 'https://www.zillow.com/homedetails/3061-Sir-Hamilton-Cir-10-Titusville-FL-32780/43379718_zpid/'}\n",
      "{'@type': 'SingleFamilyResidence', '@context': 'http://schema.org', 'name': '6176 N Tropical Trl, Merritt Island, FL 32953', 'floorSize': {'@type': 'QuantitativeValue', '@context': 'http://schema.org', 'value': '2,771'}, 'address': {'@type': 'PostalAddress', '@context': 'http://schema.org', 'streetAddress': '6176 N Tropical Trl', 'addressLocality': 'Merritt Island', 'addressRegion': 'FL', 'postalCode': '32953'}, 'geo': {'@type': 'GeoCoordinates', '@context': 'http://schema.org', 'latitude': 28.470436, 'longitude': -80.71667}, 'url': 'https://www.zillow.com/homedetails/6176-N-Tropical-Trl-Merritt-Island-FL-32953/43396924_zpid/'}\n",
      "{'@type': 'SingleFamilyResidence', '@context': 'http://schema.org', 'name': '7175 S Us Highway 1 Lot 57, Titusville, FL 32780', 'floorSize': {'@type': 'QuantitativeValue', '@context': 'http://schema.org', 'value': '0'}, 'address': {'@type': 'PostalAddress', '@context': 'http://schema.org', 'streetAddress': '7175 S Us Highway 1 LOT 57', 'addressLocality': 'Titusville', 'addressRegion': 'FL', 'postalCode': '32780'}, 'geo': {'@type': 'GeoCoordinates', '@context': 'http://schema.org', 'latitude': 28.50604, 'longitude': -80.78258}, 'url': 'https://www.zillow.com/homedetails/7175-S-Us-Highway-1-LOT-57-Titusville-FL-32780/2053393008_zpid/'}\n",
      "{'@type': 'SingleFamilyResidence', '@context': 'http://schema.org', 'name': '1702 Laramie Cir, Melbourne, FL 32940', 'floorSize': {'@type': 'QuantitativeValue', '@context': 'http://schema.org', 'value': '2,334'}, 'address': {'@type': 'PostalAddress', '@context': 'http://schema.org', 'streetAddress': '1702 Laramie Cir', 'addressLocality': 'Melbourne', 'addressRegion': 'FL', 'postalCode': '32940'}, 'geo': {'@type': 'GeoCoordinates', '@context': 'http://schema.org', 'latitude': 28.257425, 'longitude': -80.72483}, 'url': 'https://www.zillow.com/homedetails/1702-Laramie-Cir-Melbourne-FL-32940/55824763_zpid/'}\n",
      "{'@type': 'SingleFamilyResidence', '@context': 'http://schema.org', 'name': '1400 Wilson Rd, Cocoa, FL 32922', 'floorSize': {'@type': 'QuantitativeValue', '@context': 'http://schema.org', 'value': '1,900'}, 'address': {'@type': 'PostalAddress', '@context': 'http://schema.org', 'streetAddress': '1400 Wilson Rd', 'addressLocality': 'Cocoa', 'addressRegion': 'FL', 'postalCode': '32922'}, 'geo': {'@type': 'GeoCoordinates', '@context': 'http://schema.org', 'latitude': 28.365578, 'longitude': -80.75123}, 'url': 'https://www.zillow.com/homedetails/1400-Wilson-Rd-Cocoa-FL-32922/43412549_zpid/'}\n",
      "{'@type': 'SingleFamilyResidence', '@context': 'http://schema.org', 'name': '2514 Newfound Harbor Dr, Merritt Island, FL 32952', 'floorSize': {'@type': 'QuantitativeValue', '@context': 'http://schema.org', 'value': '3,342'}, 'address': {'@type': 'PostalAddress', '@context': 'http://schema.org', 'streetAddress': '2514 Newfound Harbor Dr', 'addressLocality': 'Merritt Island', 'addressRegion': 'FL', 'postalCode': '32952'}, 'geo': {'@type': 'GeoCoordinates', '@context': 'http://schema.org', 'latitude': 28.314281, 'longitude': -80.65871}, 'url': 'https://www.zillow.com/homedetails/2514-Newfound-Harbor-Dr-Merritt-Island-FL-32952/43438346_zpid/'}\n",
      "{'@type': 'SingleFamilyResidence', '@context': 'http://schema.org', 'name': '321 Christmas Ave SE, Palm Bay, FL 32909', 'floorSize': {'@type': 'QuantitativeValue', '@context': 'http://schema.org', 'value': '1,547'}, 'address': {'@type': 'PostalAddress', '@context': 'http://schema.org', 'streetAddress': '321 Christmas Ave SE', 'addressLocality': 'Palm Bay', 'addressRegion': 'FL', 'postalCode': '32909'}, 'geo': {'@type': 'GeoCoordinates', '@context': 'http://schema.org', 'latitude': 27.992777, 'longitude': -80.655914}, 'url': 'https://www.zillow.com/homedetails/321-Christmas-Ave-SE-Palm-Bay-FL-32909/43512152_zpid/'}\n",
      "{'@type': 'SingleFamilyResidence', '@context': 'http://schema.org', 'name': '2373 Talmadge Dr, Titusville, FL 32780', 'floorSize': {'@type': 'QuantitativeValue', '@context': 'http://schema.org', 'value': '1,004'}, 'address': {'@type': 'PostalAddress', '@context': 'http://schema.org', 'streetAddress': '2373 Talmadge Dr', 'addressLocality': 'Titusville', 'addressRegion': 'FL', 'postalCode': '32780'}, 'geo': {'@type': 'GeoCoordinates', '@context': 'http://schema.org', 'latitude': 28.587816, 'longitude': -80.82007}, 'url': 'https://www.zillow.com/homedetails/2373-Talmadge-Dr-Titusville-FL-32780/43379127_zpid/'}\n",
      "{'@type': 'SingleFamilyResidence', '@context': 'http://schema.org', 'name': '1370 Glen Haven Dr, Merritt Island, FL 32952', 'floorSize': {'@type': 'QuantitativeValue', '@context': 'http://schema.org', 'value': '1,327'}, 'address': {'@type': 'PostalAddress', '@context': 'http://schema.org', 'streetAddress': '1370 Glen Haven Dr', 'addressLocality': 'Merritt Island', 'addressRegion': 'FL', 'postalCode': '32952'}, 'geo': {'@type': 'GeoCoordinates', '@context': 'http://schema.org', 'latitude': 28.363178, 'longitude': -80.67301}, 'url': 'https://www.zillow.com/homedetails/1370-Glen-Haven-Dr-Merritt-Island-FL-32952/43422903_zpid/'}\n",
      "{'@type': 'SingleFamilyResidence', '@context': 'http://schema.org', 'name': '1197 Glencove Ave NW, Palm Bay, FL 32907', 'floorSize': {'@type': 'QuantitativeValue', '@context': 'http://schema.org', 'value': '1,952'}, 'address': {'@type': 'PostalAddress', '@context': 'http://schema.org', 'streetAddress': '1197 Glencove Ave NW', 'addressLocality': 'Palm Bay', 'addressRegion': 'FL', 'postalCode': '32907'}, 'geo': {'@type': 'GeoCoordinates', '@context': 'http://schema.org', 'latitude': 28.027662, 'longitude': -80.713135}, 'url': 'https://www.zillow.com/homedetails/1197-Glencove-Ave-NW-Palm-Bay-FL-32907/43484040_zpid/'}\n"
     ]
    }
   ],
   "source": [
    "# while response.status_code == 200:\n",
    "while page <= 1:\n",
    "    page += 1\n",
    "\n",
    "    url = 'https://www.zillow.com/%s-county-%s/' %(county, state)\n",
    "    \n",
    "    params = {\n",
    "    'searchQueryState': '{\"pagination\":{\"currentPage\":%s},\"isMapVisible\":false,\"mapBounds\":{\"west\":-81.67492903125,\"east\":-79.69738996875,\"south\":27.568978152602924,\"north\":29.04158767448029},\"mapZoom\":9,\"usersSearchTerm\":\"Brevard County, FL\",\"regionSelection\":[{\"regionId\":1556,\"regionType\":4}],\"filterState\":{\"sort\":{\"value\":\"globalrelevanceex\"},\"ah\":{\"value\":true}},\"isListVisible\":true}' %page\n",
    "    }\n",
    "\n",
    "    response = requests.get(url=url, params=params, headers=headers)\n",
    "    time.sleep(2)\n",
    "\n",
    "    content = BeautifulSoup(response.text)\n",
    "\n",
    "    deck = content.find('ul', {'class':'List-c11n-8-84-3__sc-1smrmqp-0 StyledSearchListWrapper-srp__sc-1ieen0c-0 doa-doM gKnRas photo-cards photo-cards_extra-attribution'})\n",
    "\n",
    "    for card in deck.contents: # currently does not seem get all cards on page 1... missing a lot...\n",
    "        script = card.find('script', {'type':'application/ld+json'}) # Excluding any advertisement cards. Script = None on ad cards.\n",
    "        if script:\n",
    "            script_json = json.loads(script.contents[0])\n",
    "            print(script_json)\n"
   ]
  },
  {
   "cell_type": "markdown",
   "metadata": {},
   "source": [
    "Run request on first page\n",
    "get all child elements from cards on first page\n",
    "    from child elements is a \"homedetails\" url for all the specific data\n",
    "loop through all homedetails urls on first page as second request set\n",
    "    scrape necessary data from homedetails page into data frame\n",
    "run request on second, third, ..., nth page"
   ]
  }
 ],
 "metadata": {
  "kernelspec": {
   "display_name": "DataSciencePy38",
   "language": "python",
   "name": "python3"
  },
  "language_info": {
   "codemirror_mode": {
    "name": "ipython",
    "version": 3
   },
   "file_extension": ".py",
   "mimetype": "text/x-python",
   "name": "python",
   "nbconvert_exporter": "python",
   "pygments_lexer": "ipython3",
   "version": "3.8.16"
  }
 },
 "nbformat": 4,
 "nbformat_minor": 2
}
