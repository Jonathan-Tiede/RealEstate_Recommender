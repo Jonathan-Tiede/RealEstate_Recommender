{
 "cells": [
  {
   "cell_type": "code",
   "execution_count": null,
   "metadata": {},
   "outputs": [],
   "source": [
    "# This notebook will run various models on the data to predict a more accurate value of the home.\n",
    "# Feature engineering techniques will be employed.\n",
    "# Many models will be built and compared to find the best model for the job."
   ]
  }
 ],
 "metadata": {
  "language_info": {
   "name": "python"
  }
 },
 "nbformat": 4,
 "nbformat_minor": 2
}
