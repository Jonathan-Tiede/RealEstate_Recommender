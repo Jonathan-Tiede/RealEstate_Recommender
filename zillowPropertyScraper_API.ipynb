{
 "cells": [
  {
   "cell_type": "markdown",
   "metadata": {},
   "source": [
    "Zillow API from:\\\n",
    "https://rapidapi.com/s.mahmoud97/api/zillow56"
   ]
  },
  {
   "cell_type": "code",
   "execution_count": 112,
   "metadata": {},
   "outputs": [],
   "source": [
    "from bs4 import BeautifulSoup\n",
    "import requests\n",
    "import pandas as pd\n",
    "import time\n",
    "\n",
    "pd.options.display.max_columns = None"
   ]
  },
  {
   "cell_type": "code",
   "execution_count": 113,
   "metadata": {},
   "outputs": [],
   "source": [
    "# Load API key\n",
    "df = pd.read_csv('../../API_Keys/API-KEYS.csv')\n",
    "rapid_API_Key = df.loc[df['API'] == 'rapid-API']['KEY'].iloc[0]"
   ]
  },
  {
   "cell_type": "code",
   "execution_count": 114,
   "metadata": {},
   "outputs": [],
   "source": [
    "# API specific variables.\n",
    "url_search = \"https://zillow56.p.rapidapi.com/search\"\n",
    "url_property = \"https://zillow56.p.rapidapi.com/property\"\n",
    "headers = {\n",
    "\t\t\"X-RapidAPI-Key\":rapid_API_Key,\n",
    "\t\t\"X-RapidAPI-Host\":\"zillow56.p.rapidapi.com\"\n",
    "\t}\n",
    "\n",
    "VALID_STATUS = {\"forSale\", \"recentlySold\", \"forRent\"}"
   ]
  },
  {
   "cell_type": "code",
   "execution_count": 116,
   "metadata": {},
   "outputs": [],
   "source": [
    "# Set Zillow search parameters\n",
    "location = \"Brevard County FL\"\n",
    "status = \"forSale\" # Options are \"forSale\", \"recentlySold\", \"forRent\"\n",
    "priceRange = [\n",
    "    [1, 250000], [250001, 300000], [300001, 350000], [350001, 400000],\n",
    "    [400001, 450000], [450001, 500000], [500001, 750000], [750001, 1000000],\n",
    "    [1000001, 2000000], [2000001, 5000000], [5000001, 50000000]\n",
    "    ]"
   ]
  },
  {
   "cell_type": "code",
   "execution_count": 138,
   "metadata": {},
   "outputs": [],
   "source": [
    "# Build functions for cleanliness\n",
    "def zillowAPISearch(callCount, url=url_search, headers=headers, priceRange=priceRange, location=\"Brevard County FL\", status=\"forSale\"):\n",
    "\n",
    "\tif status not in VALID_STATUS:\n",
    "\t\traise ValueError(\"Error: Status must be one of %r.\" %VALID_STATUS)\n",
    "\t\n",
    "\tfirstEntry = False\n",
    "\tfor i, price in enumerate(priceRange):\n",
    "\t\tlastPageCheck = False\n",
    "\t\tpage = 1\n",
    "\t\tlastPage = 20\n",
    "\t\twhile page <= lastPage:\n",
    "\t\t\tif status == \"recentlySold\":\n",
    "\t\t\t\tquerystring = {\n",
    "\t\t\t\t\t\"page\":page,\n",
    "\t\t\t\t\t\"location\":location,\n",
    "\t\t\t\t\t\"status\":status,\n",
    "\t\t\t\t\t\"sortSelection\":\"days\",\n",
    "\t\t\t\t\t\"isSingleFamily\":\"true\",\n",
    "\t\t\t\t\t\"isMultiFamily\":\"false\",\n",
    "\t\t\t\t\t\"isApartment\":\"false\",\n",
    "\t\t\t\t\t\"isCondo\":\"false\",\n",
    "\t\t\t\t\t\"isManufactured\":\"false\",\n",
    "\t\t\t\t\t\"isTownhouse\":\"false\",\n",
    "\t\t\t\t\t\"isLotLand\":\"false\",\n",
    "\t\t\t\t\t\"price_min\":price[0],\n",
    "\t\t\t\t\t\"price_max\":price[1],\n",
    "\t\t\t\t\t\"doz\":\"12m\"\n",
    "\t\t\t\t}\n",
    "\t\t\telse:\n",
    "\t\t\t\tquerystring = {\n",
    "\t\t\t\t\t\"page\":page,\n",
    "\t\t\t\t\t\"location\":location,\n",
    "\t\t\t\t\t\"status\":status,\n",
    "\t\t\t\t\t\"sortSelection\":\"pricea\",\n",
    "\t\t\t\t\t\"isSingleFamily\":\"true\",\n",
    "\t\t\t\t\t\"isMultiFamily\":\"false\",\n",
    "\t\t\t\t\t\"isApartment\":\"false\",\n",
    "\t\t\t\t\t\"isCondo\":\"false\",\n",
    "\t\t\t\t\t\"isManufactured\":\"false\",\n",
    "\t\t\t\t\t\"isTownhouse\":\"false\",\n",
    "\t\t\t\t\t\"isLotLand\":\"false\",\n",
    "\t\t\t\t\t\"price_min\":price[0],\n",
    "\t\t\t\t\t\"price_max\":price[1]\n",
    "\t\t\t\t}\n",
    "\t\t\n",
    "\t\t\tresponse = requests.get(url, headers=headers, params=querystring)\n",
    "\t\t\tcallCount += 1\n",
    "\t\t\ttime.sleep(0.5)\n",
    "\t\t\t\n",
    "\t\t\t# if response.status_code != 200:\n",
    "\t\t\t# \tprint(f'Last page is: {page-1}')\n",
    "\t\t\t# \tbreak\n",
    "\n",
    "\t\t\tsearchData = response.json()\n",
    "\n",
    "\t\t\tif lastPageCheck == False:\n",
    "\t\t\t\tlastPageCheck = True\n",
    "\t\t\t\tlastPage = searchData['totalPages']\n",
    "\t\t\t\tprint(f'Total number of pages to scrape for price range ${price[0]} to ${price[1]}: {lastPage}.')\n",
    "\t\t\t\tprint('')\n",
    "\n",
    "\t\t\tif firstEntry == False:\n",
    "\t\t\t\tdf_searchData = pd.json_normalize(searchData['results'])\n",
    "\t\t\t\tfirstEntry = True\n",
    "\t\t\telse:\n",
    "\t\t\t\tdf_searchData = pd.concat([df_searchData, pd.json_normalize(searchData['results'])], axis=0, ignore_index=True)\n",
    "\t\t\t\n",
    "\t\t\tprint(f'Scraping property data from page {page}/{lastPage} for price range ${price[0]} to ${price[1]}.')\n",
    "\t\t\tpage += 1\n",
    "\t\n",
    "\treturn df_searchData, callCount\n",
    "\n",
    "def zillowPropertyDetails(zpid, firstEntry, callCount, url=url_property, headers=headers):\n",
    "\tquerystring = {\n",
    "\t\t\"zpid\":zpid\n",
    "\t}\n",
    "\n",
    "\tresponse = requests.get(url, headers=headers, params=querystring)\n",
    "\tcallCount += 1\n",
    "\ttime.sleep(0.5)\n",
    "\n",
    "\t# if response.status_code != 200:\n",
    "\t# \traise ValueError('Chosen ZPID is not valid.')\n",
    "\t\n",
    "\tif firstEntry == False:\n",
    "\t\tfirstEntry = True\n",
    "\n",
    "\tdf_propertyData = pd.json_normalize(response.json())\n",
    "\n",
    "\treturn df_propertyData, firstEntry, callCount"
   ]
  },
  {
   "cell_type": "code",
   "execution_count": 110,
   "metadata": {},
   "outputs": [
    {
     "name": "stdout",
     "output_type": "stream",
     "text": [
      "Total number of pages to scrape for price range $1 to $250000: 4.\n",
      "\n",
      "Scraping property data from page 1/4 for price range $1 to $250000.\n",
      "Scraping property data from page 2/4 for price range $1 to $250000.\n",
      "Scraping property data from page 3/4 for price range $1 to $250000.\n"
     ]
    },
    {
     "ename": "KeyboardInterrupt",
     "evalue": "",
     "output_type": "error",
     "traceback": [
      "\u001b[0;31m---------------------------------------------------------------------------\u001b[0m",
      "\u001b[0;31mKeyboardInterrupt\u001b[0m                         Traceback (most recent call last)",
      "Cell \u001b[0;32mIn[110], line 5\u001b[0m\n\u001b[1;32m      1\u001b[0m \u001b[38;5;66;03m# API calls for web scraping\u001b[39;00m\n\u001b[1;32m      2\u001b[0m \u001b[38;5;66;03m# CAUTION: These will go against the monthly allowable fo 15,000. RUN SPARINGLY!!.\u001b[39;00m\n\u001b[1;32m      3\u001b[0m API_callCount \u001b[38;5;241m=\u001b[39m \u001b[38;5;241m3297\u001b[39m\n\u001b[0;32m----> 5\u001b[0m df_search, API_callCount \u001b[38;5;241m=\u001b[39m \u001b[43mzillowAPISearch\u001b[49m\u001b[43m(\u001b[49m\u001b[43mcallCount\u001b[49m\u001b[38;5;241;43m=\u001b[39;49m\u001b[43mAPI_callCount\u001b[49m\u001b[43m)\u001b[49m\n\u001b[1;32m      6\u001b[0m \u001b[38;5;28mprint\u001b[39m(\u001b[38;5;124m'\u001b[39m\u001b[38;5;124m'\u001b[39m)\n\u001b[1;32m      8\u001b[0m firstEntry \u001b[38;5;241m=\u001b[39m \u001b[38;5;28;01mFalse\u001b[39;00m\n",
      "Cell \u001b[0;32mIn[109], line 31\u001b[0m, in \u001b[0;36mzillowAPISearch\u001b[0;34m(callCount, url, headers, priceRange, location, status)\u001b[0m\n\u001b[1;32m     29\u001b[0m response \u001b[38;5;241m=\u001b[39m requests\u001b[38;5;241m.\u001b[39mget(url, headers\u001b[38;5;241m=\u001b[39mheaders, params\u001b[38;5;241m=\u001b[39mquerystring)\n\u001b[1;32m     30\u001b[0m callCount \u001b[38;5;241m+\u001b[39m\u001b[38;5;241m=\u001b[39m \u001b[38;5;241m1\u001b[39m\n\u001b[0;32m---> 31\u001b[0m \u001b[43mtime\u001b[49m\u001b[38;5;241;43m.\u001b[39;49m\u001b[43msleep\u001b[49m\u001b[43m(\u001b[49m\u001b[38;5;241;43m0.5\u001b[39;49m\u001b[43m)\u001b[49m\n\u001b[1;32m     33\u001b[0m \u001b[38;5;66;03m# if response.status_code != 200:\u001b[39;00m\n\u001b[1;32m     34\u001b[0m \u001b[38;5;66;03m# \tprint(f'Last page is: {page-1}')\u001b[39;00m\n\u001b[1;32m     35\u001b[0m \u001b[38;5;66;03m# \tbreak\u001b[39;00m\n\u001b[1;32m     37\u001b[0m searchData \u001b[38;5;241m=\u001b[39m response\u001b[38;5;241m.\u001b[39mjson()\n",
      "\u001b[0;31mKeyboardInterrupt\u001b[0m: "
     ]
    }
   ],
   "source": [
    "# API calls for web scraping\n",
    "# CAUTION: These will go against the monthly allowable fo 15,000. RUN SPARINGLY!!.\n",
    "price = [priceRange[0]]\n",
    "API_callCount = 3297\n",
    "\n",
    "df_search, API_callCount = zillowAPISearch(callCount=API_callCount)\n",
    "print('')\n",
    "\n",
    "firstEntry = False\n",
    "for i, zpid in enumerate(df_search['zpid']):\n",
    "    if firstEntry == False:\n",
    "        df_property, firstEntry, API_callCount = zillowPropertyDetails(callCount=API_callCount, zpid=zpid, firstEntry=firstEntry)\n",
    "    else:\n",
    "        temp, _, API_callCount = zillowPropertyDetails(callCount=API_callCount, zpid=zpid, firstEntry=firstEntry)\n",
    "        df_property = pd.concat([df_property, temp], axis=0, ignore_index=True)\n",
    "    \n",
    "    print(f'Adding additional data for property {i+1}/{df_search.shape[0]}.')\n",
    "\n",
    "print('')\n",
    "print(f'Total API call count so far: {API_callCount}')"
   ]
  },
  {
   "cell_type": "code",
   "execution_count": 72,
   "metadata": {},
   "outputs": [
    {
     "name": "stdout",
     "output_type": "stream",
     "text": [
      "(4, 589)\n"
     ]
    }
   ],
   "source": [
    "# Concatenate the two dataframes together\n",
    "df_housingData = pd.concat([df_search, df_property], axis=1, ignore_index=False)"
   ]
  },
  {
   "cell_type": "code",
   "execution_count": 73,
   "metadata": {},
   "outputs": [],
   "source": [
    "# Export dataframe to csv file for later use.\n",
    "df_housingData.to_csv(f'housingData_{price[0][0]}_{price[0][1]}.csv', sep=',', index=True, encoding='utf-8')"
   ]
  },
  {
   "cell_type": "code",
   "execution_count": null,
   "metadata": {},
   "outputs": [],
   "source": [
    "del df_housingData"
   ]
  },
  {
   "cell_type": "code",
   "execution_count": 174,
   "metadata": {},
   "outputs": [
    {
     "name": "stdout",
     "output_type": "stream",
     "text": [
      "Total number of pages to scrape for price range $5000001 to $50000000: 1.\n",
      "\n",
      "Scraping property data from page 1/1 for price range $5000001 to $50000000.\n",
      "\n",
      "Adding additional data for property 1/4.\n",
      "Adding additional data for property 2/4.\n",
      "Adding additional data for property 3/4.\n",
      "Adding additional data for property 4/4.\n",
      "\n",
      "Total API call count so far: 10957\n"
     ]
    }
   ],
   "source": [
    "# Need to rerun with status=\"recentlySold\"\n",
    "price = [priceRange[10]] # Eleven total subsets. i_max = 10\n",
    "API_callCount = 10957\n",
    "status = \"recentlySold\"\n",
    "\n",
    "df_search, API_callCount = zillowAPISearch(priceRange=price, callCount=API_callCount, status=status)\n",
    "print('')\n",
    "\n",
    "firstEntry = False\n",
    "for i, zpid in enumerate(df_search['zpid']):\n",
    "    if firstEntry == False:\n",
    "        df_property, firstEntry, API_callCount = zillowPropertyDetails(callCount=API_callCount, zpid=zpid, firstEntry=firstEntry)\n",
    "    else:\n",
    "        temp, _, API_callCount = zillowPropertyDetails(callCount=API_callCount, zpid=zpid, firstEntry=firstEntry)\n",
    "        df_property = pd.concat([df_property, temp], axis=0, ignore_index=True)\n",
    "    \n",
    "    print(f'Adding additional data for property {i+1}/{df_search.shape[0]}.')\n",
    "\n",
    "print('')\n",
    "print(f'Total API call count so far: {API_callCount}')"
   ]
  },
  {
   "cell_type": "code",
   "execution_count": 156,
   "metadata": {},
   "outputs": [
    {
     "data": {
      "text/plain": [
       "8606"
      ]
     },
     "execution_count": 156,
     "metadata": {},
     "output_type": "execute_result"
    }
   ],
   "source": [
    "API_callCount"
   ]
  },
  {
   "cell_type": "code",
   "execution_count": 175,
   "metadata": {},
   "outputs": [],
   "source": [
    "# Concatenate the two dataframes together\n",
    "df_housingData = pd.concat([df_search, df_property], axis=1, ignore_index=False)\n",
    "# Export dataframe to csv file for later use.\n",
    "df_housingData.to_csv(f'housingData_recentlySold_{price[0][0]}_{price[0][1]}.csv', sep=',', index=True, encoding='utf-8')"
   ]
  },
  {
   "cell_type": "code",
   "execution_count": 176,
   "metadata": {},
   "outputs": [],
   "source": [
    "del df_housingData"
   ]
  },
  {
   "cell_type": "code",
   "execution_count": null,
   "metadata": {},
   "outputs": [],
   "source": []
  }
 ],
 "metadata": {
  "kernelspec": {
   "display_name": "DataSciencePy38",
   "language": "python",
   "name": "python3"
  },
  "language_info": {
   "codemirror_mode": {
    "name": "ipython",
    "version": 3
   },
   "file_extension": ".py",
   "mimetype": "text/x-python",
   "name": "python",
   "nbconvert_exporter": "python",
   "pygments_lexer": "ipython3",
   "version": "3.8.16"
  }
 },
 "nbformat": 4,
 "nbformat_minor": 2
}
