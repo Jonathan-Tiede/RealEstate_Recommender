{
 "cells": [
  {
   "cell_type": "markdown",
   "metadata": {},
   "source": [
    "Zillow API from:\\\n",
    "https://rapidapi.com/s.mahmoud97/api/zillow56"
   ]
  },
  {
   "cell_type": "code",
   "execution_count": 65,
   "metadata": {},
   "outputs": [],
   "source": [
    "from bs4 import BeautifulSoup\n",
    "import requests\n",
    "import pandas as pd\n",
    "import time\n",
    "\n",
    "pd.options.display.max_columns = None"
   ]
  },
  {
   "cell_type": "code",
   "execution_count": 66,
   "metadata": {},
   "outputs": [],
   "source": [
    "# Load API key\n",
    "df = pd.read_csv('../../Data Analytics and Data Science Projects/API-KEYS.csv')\n",
    "rapid_API_Key = df.loc[df['API'] == 'rapid-API']['KEY'].iloc[0]"
   ]
  },
  {
   "cell_type": "code",
   "execution_count": 67,
   "metadata": {},
   "outputs": [],
   "source": [
    "# API specific variables.\n",
    "url_search = \"https://zillow56.p.rapidapi.com/search\"\n",
    "url_property = \"https://zillow56.p.rapidapi.com/property\"\n",
    "headers = {\n",
    "\t\t\"X-RapidAPI-Key\":rapid_API_Key,\n",
    "\t\t\"X-RapidAPI-Host\":\"zillow56.p.rapidapi.com\"\n",
    "\t}\n",
    "\n",
    "VALID_STATUS = {\"forSale\", \"recentlySold\", \"forRent\"}"
   ]
  },
  {
   "cell_type": "code",
   "execution_count": 68,
   "metadata": {},
   "outputs": [],
   "source": [
    "# Set Zillow search parameters\n",
    "location = \"Brevard County FL\"\n",
    "status = \"forSale\" # Options are \"forSale\", \"recentlySold\", \"forRent\"\n",
    "# priceRange = [[1, 250000], [250001, 300000], [300001, 350000], [350001, 400000], [400001, 450000], [450001, 500000], [500001, 750000], [750001, 1000000], [1000001, 2000000], [2000001, 5000000], [5000001, 50000000]] #Limiting for trial/error. Will set to full range once confirmed working.\n",
    "#                  x137             241              443                571               283               173              487               208                 113                 62                4\n",
    "priceRange = [[5000001, 50000000]]"
   ]
  },
  {
   "cell_type": "code",
   "execution_count": 69,
   "metadata": {},
   "outputs": [],
   "source": [
    "# Build functions for cleanliness\n",
    "def zillowAPISearch(callCount, url=url_search, headers=headers, priceRange=priceRange, location=\"Brevard County FL\", status=\"forSale\"):\n",
    "\n",
    "\tif status not in VALID_STATUS:\n",
    "\t\traise ValueError(\"Error: Status must be one of %r.\" %VALID_STATUS)\n",
    "\t\n",
    "\tfirstEntry = False\n",
    "\tfor i, price in enumerate(priceRange):\n",
    "\t\tlastPageCheck = False\n",
    "\t\tpage = 1\n",
    "\t\tlastPage = 20\n",
    "\t\twhile page <= lastPage:\n",
    "\t\t\tquerystring = {\n",
    "\t\t\t\t\"page\":page,\n",
    "\t\t\t\t\"location\":location,\n",
    "\t\t\t\t\"status\":status,\n",
    "\t\t\t\t\"sortSelection\":\"pricea\",\n",
    "\t\t\t\t\"isSingleFamily\":\"true\",\n",
    "\t\t\t\t\"isMultiFamily\":\"false\",\n",
    "\t\t\t\t\"isApartment\":\"false\",\n",
    "\t\t\t\t\"isCondo\":\"false\",\n",
    "\t\t\t\t\"isManufactured\":\"false\",\n",
    "\t\t\t\t\"isTownhouse\":\"false\",\n",
    "\t\t\t\t\"isLotLand\":\"false\",\n",
    "\t\t\t\t\"price_min\":price[0],\n",
    "\t\t\t\t\"price_max\":price[1]\n",
    "\t\t\t}\n",
    "\t\t\n",
    "\t\t\tresponse = requests.get(url, headers=headers, params=querystring)\n",
    "\t\t\tcallCount += 1\n",
    "\t\t\ttime.sleep(0.5)\n",
    "\t\t\t\n",
    "\t\t\t# if response.status_code != 200:\n",
    "\t\t\t# \tprint(f'Last page is: {page-1}')\n",
    "\t\t\t# \tbreak\n",
    "\n",
    "\t\t\tsearchData = response.json()\n",
    "\n",
    "\t\t\tif lastPageCheck == False:\n",
    "\t\t\t\tlastPageCheck = True\n",
    "\t\t\t\tlastPage = searchData['totalPages']\n",
    "\t\t\t\tprint(f'Total number of pages to scrape for price range ${price[0]} to ${price[1]}: {lastPage}.')\n",
    "\t\t\t\tprint('')\n",
    "\n",
    "\t\t\tif firstEntry == False:\n",
    "\t\t\t\tdf_searchData = pd.json_normalize(searchData['results'])\n",
    "\t\t\t\tfirstEntry = True\n",
    "\t\t\telse:\n",
    "\t\t\t\tdf_searchData = pd.concat([df_searchData, pd.json_normalize(searchData['results'])], axis=0, ignore_index=True)\n",
    "\t\t\t\n",
    "\t\t\tprint(f'Scraping property data from page {page}/{lastPage} for price range ${price[0]} to ${price[1]}.')\n",
    "\t\t\tpage += 1\n",
    "\t\n",
    "\treturn df_searchData, callCount\n",
    "\n",
    "def zillowPropertyDetails(zpid, firstEntry, callCount, url=url_property, headers=headers):\n",
    "\tquerystring = {\n",
    "\t\t\"zpid\":zpid\n",
    "\t}\n",
    "\n",
    "\tresponse = requests.get(url, headers=headers, params=querystring)\n",
    "\tcallCount += 1\n",
    "\ttime.sleep(0.5)\n",
    "\n",
    "\t# if response.status_code != 200:\n",
    "\t# \traise ValueError('Chosen ZPID is not valid.')\n",
    "\t\n",
    "\tif firstEntry == False:\n",
    "\t\tfirstEntry = True\n",
    "\n",
    "\tdf_propertyData = pd.json_normalize(response.json())\n",
    "\n",
    "\treturn df_propertyData, firstEntry, callCount"
   ]
  },
  {
   "cell_type": "code",
   "execution_count": 70,
   "metadata": {},
   "outputs": [
    {
     "name": "stdout",
     "output_type": "stream",
     "text": [
      "Total number of pages to scrape for price range $5000001 to $50000000: 1.\n",
      "\n",
      "Scraping property data from page 1/1 for price range $5000001 to $50000000.\n",
      "\n",
      "Adding additional data for property 1/4.\n",
      "Adding additional data for property 2/4.\n",
      "Adding additional data for property 3/4.\n",
      "Adding additional data for property 4/4.\n",
      "\n",
      "Total API call count so far: 3262\n"
     ]
    }
   ],
   "source": [
    "# API calls for web scraping\n",
    "# CAUTION: These will go against the monthly allowable fo 15,000. RUN SPARINGLY!!.\n",
    "API_callCount = 3297\n",
    "\n",
    "df_search, API_callCount = zillowAPISearch(callCount=API_callCount)\n",
    "print('')\n",
    "\n",
    "firstEntry = False\n",
    "for i, zpid in enumerate(df_search['zpid']):\n",
    "    if firstEntry == False:\n",
    "        df_property, firstEntry, API_callCount = zillowPropertyDetails(callCount=API_callCount, zpid=zpid, firstEntry=firstEntry)\n",
    "    else:\n",
    "        temp, _, API_callCount = zillowPropertyDetails(callCount=API_callCount, zpid=zpid, firstEntry=firstEntry)\n",
    "        df_property = pd.concat([df_property, temp], axis=0, ignore_index=True)\n",
    "    \n",
    "    print(f'Adding additional data for property {i+1}/{df_search.shape[0]}.')\n",
    "\n",
    "print('')\n",
    "print(f'Total API call count so far: {API_callCount}')"
   ]
  },
  {
   "cell_type": "code",
   "execution_count": 72,
   "metadata": {},
   "outputs": [
    {
     "name": "stdout",
     "output_type": "stream",
     "text": [
      "(4, 589)\n"
     ]
    }
   ],
   "source": [
    "# Concatenate the two dataframes together\n",
    "df_housingData = pd.concat([df_search, df_property], axis=1, ignore_index=False)"
   ]
  },
  {
   "cell_type": "code",
   "execution_count": 73,
   "metadata": {},
   "outputs": [],
   "source": [
    "# Export dataframe to csv file for later use.\n",
    "df_housingData.to_csv('housingData.csv', sep=',', index=True, encoding='utf-8')"
   ]
  },
  {
   "cell_type": "code",
   "execution_count": null,
   "metadata": {},
   "outputs": [],
   "source": [
    "del df_housingData"
   ]
  }
 ],
 "metadata": {
  "kernelspec": {
   "display_name": "DataSciencePy38",
   "language": "python",
   "name": "python3"
  },
  "language_info": {
   "codemirror_mode": {
    "name": "ipython",
    "version": 3
   },
   "file_extension": ".py",
   "mimetype": "text/x-python",
   "name": "python",
   "nbconvert_exporter": "python",
   "pygments_lexer": "ipython3",
   "version": "3.8.16"
  }
 },
 "nbformat": 4,
 "nbformat_minor": 2
}
