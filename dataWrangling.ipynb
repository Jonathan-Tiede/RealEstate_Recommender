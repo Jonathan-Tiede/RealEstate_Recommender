{
 "cells": [
  {
   "cell_type": "code",
   "execution_count": 662,
   "metadata": {},
   "outputs": [],
   "source": [
    "# This notebook will take the housing data scraped earlier and clean/format it for further investigation.\n",
    "import pandas as pd\n",
    "import numpy as np\n",
    "import csv\n",
    "from matplotlib import pyplot as plt\n",
    "\n",
    "pd.options.display.max_columns = None"
   ]
  },
  {
   "cell_type": "code",
   "execution_count": 663,
   "metadata": {},
   "outputs": [],
   "source": [
    "priceRange = [\n",
    "    [1, 250000], [250001, 300000], [300001, 350000], [350001, 400000],\n",
    "    [400001, 450000], [450001, 500000], [500001, 750000], [750001, 1000000],\n",
    "    [1000001, 2000000], [2000001, 5000000], [5000001, 50000000]\n",
    "    ]"
   ]
  },
  {
   "cell_type": "code",
   "execution_count": 664,
   "metadata": {},
   "outputs": [],
   "source": [
    "# Create function to take in column of dataframe and return modified column\n",
    "# Function will take in resoFacts.associationFee and determine if its monthly, quarterly, etc and div value by appropriate amount\n",
    "# Returned dataframe series will just a number representing monthly HOA fee due.\n",
    "\n",
    "def hoaFees(series: pd.DataFrame):\n",
    "    paymentFreq = series.apply(lambda x: str(x).strip(\"$,1234567890 \"))\n",
    "    payment = series.apply(lambda x: str(x).strip(\"$,-abcdefghijklmnopqrstuvwxyz \").replace(',', ''))\n",
    "    payment = payment.apply(lambda x: float(x))\n",
    "\n",
    "    paymentFreq.replace('', 0, inplace=True)\n",
    "\n",
    "    for i, freq in enumerate(paymentFreq):\n",
    "        if freq == 'monthly':\n",
    "            payment[i] = payment[i]\n",
    "\n",
    "        elif freq == 'quarterly':\n",
    "            payment[i] = payment[i]/4\n",
    "\n",
    "        elif freq == 'semi-annually':\n",
    "            payment[i] = payment[i]/6\n",
    "\n",
    "        elif freq == 'annually':\n",
    "            payment[i] = payment[i]/12\n",
    "\n",
    "        else:\n",
    "            payment[i] = 0\n",
    "    \n",
    "    payment = round(payment)\n",
    "    return payment\n",
    "\n",
    "# Concat partial URL with website prefix\n",
    "def fullURL(hdpURL: str):\n",
    "    hdpURL = 'www.zillow.com' + str(hdpURL)\n",
    "    return hdpURL\n",
    "\n",
    "# Set area units to a consistent value of 'Square Feet'\n",
    "def areaUnitConversion(units: pd.DataFrame):\n",
    "    \n",
    "    # Input validation\n",
    "    if 'lotAreaUnits' not in units.columns or 'lotAreaValue' not in units.columns:\n",
    "        raise ValueError(\"Input DataFrame must have 'lotAreaUnits' and 'lotAreaValue' columns.\")\n",
    "    \n",
    "    # Create a copy of the DataFrame to avoid in-place changes\n",
    "    units_copy = units.copy(deep=True)\n",
    "\n",
    "    for idx in units_copy.index:\n",
    "        if units_copy.loc[idx, 'lotAreaUnits'] == 'Acres':\n",
    "            units_copy.loc[idx, 'lotAreaValue'] *= 43560\n",
    "            units_copy.loc[idx, 'lotAreaUnits'] = 'Square Feet'\n",
    "        elif units_copy.loc[idx, 'lotAreaUnits'] == 'sqft':\n",
    "            units_copy.loc[idx, 'lotAreaUnits'] = 'Square Feet'\n",
    "\n",
    "    # The function below does not work cleanly. It will cause a SettingWithCopyWarning error.\n",
    "            \n",
    "    # for idx in units.index:\n",
    "    #     if units['lotAreaUnits'][idx] == 'Acres':\n",
    "    #         units['lotAreaValue'][idx] = units['lotAreaValue'][idx] * 43560\n",
    "    #         units['lotAreaUnits'][idx] = 'Square Feet'\n",
    "    #     elif units['lotAreaUnits'][idx] == 'sqft':\n",
    "    #         units['lotAreaUnits'][idx] = 'Square Feet'\n",
    "\n",
    "    return units_copy\n",
    "\n",
    "def timeOnZillowConversion(toz: str):\n",
    "    units = toz.strip(' 1234567890')\n",
    "    if units == 'day':\n",
    "        units = toz\n",
    "    elif units == 'days':\n",
    "        units = toz\n",
    "    else:\n",
    "        units = '1 day'\n",
    "    return units\n",
    "\n",
    "\n",
    "'''\n",
    "Function to calculate outliers and return list of outliers and non-outliers.\n",
    "'''\n",
    "# def outliers(sortedList: pd.DataFrame):\n",
    "\n",
    "#     outlierBoolean = []\n",
    "\n",
    "#     Q1 = np.percentile(sortedList, 25)\n",
    "#     Q3 = np.percentile(sortedList, 75)\n",
    "#     IQR = Q3 - Q1\n",
    "\n",
    "#     upperBound = Q3 + 1.5*IQR\n",
    "#     lowerBound = Q1 - 1.5*IQR\n",
    "\n",
    "#     for value in sortedList:\n",
    "#         if (value < lowerBound or value > upperBound):\n",
    "#             outlierBoolean.append(1)\n",
    "#         else:\n",
    "#             outlierBoolean.append(0)\n",
    "\n",
    "#     return outlierBoolean\n",
    "\n",
    "def outliers(sortedList: pd.DataFrame, column: str):\n",
    "\n",
    "    outlierBoolean = [0] * sortedList.shape[0]\n",
    "\n",
    "    for zipcode in sortedList['zipcode'].unique():\n",
    "        zipcodeIndex = sortedList.index[sortedList['zipcode']==zipcode]\n",
    "        Q1 = np.percentile(sortedList[column].loc[sortedList['zipcode']==zipcode], 25)\n",
    "        Q3 = np.percentile(sortedList[column].loc[sortedList['zipcode']==zipcode], 75)\n",
    "        IQR = Q3 - Q1\n",
    "\n",
    "        upperBound = Q3 + 1.5*IQR\n",
    "        lowerBound = Q1 - 1.5*IQR\n",
    "\n",
    "        for TF in zipcodeIndex:\n",
    "            if (sortedList[column][TF] < lowerBound or sortedList[column][TF] > upperBound):\n",
    "                outlierBoolean[TF] = 1\n",
    "\n",
    "    return outlierBoolean"
   ]
  },
  {
   "cell_type": "code",
   "execution_count": 665,
   "metadata": {},
   "outputs": [],
   "source": [
    "for i, price in enumerate(priceRange):\n",
    "    if i == 0:\n",
    "        df_forSale = pd.read_csv(f'Raw_Housing_Data/housingData_{price[0]}_{price[1]}.csv',\n",
    "                                 index_col=0, dtype={'zipcode':str})\n",
    "        df_recentlySold = pd.read_csv(f'Raw_Housing_Data/housingData_recentlySold_{price[0]}_{price[1]}.csv',\n",
    "                                      index_col=0, dtype={'zipcode':str})\n",
    "    else:\n",
    "        df_forSale = pd.concat([df_forSale, pd.read_csv(f'Raw_Housing_Data/housingData_{price[0]}_{price[1]}.csv',\n",
    "                                                        index_col=0)], axis=0, ignore_index=True)\n",
    "        df_recentlySold = pd.concat([df_recentlySold, pd.read_csv(f'Raw_Housing_Data/housingData_recentlySold_{price[0]}_{price[1]}.csv',\n",
    "                                                                  index_col=0)], axis=0, ignore_index=True)"
   ]
  },
  {
   "cell_type": "code",
   "execution_count": 666,
   "metadata": {},
   "outputs": [],
   "source": [
    "columnNames_forSale = list(map(lambda x: x.split(', '), df_forSale.columns))\n",
    "columnNames_recentlySold = list(map(lambda x: x.split(','), df_recentlySold))\n",
    "\n",
    "with open('Raw_Housing_Data/dataframeColumnNames_forSale.csv', 'w', newline='') as file:\n",
    "    writer = csv.writer(file)\n",
    "    writer.writerows(columnNames_forSale)\n",
    "\n",
    "with open('Raw_Housing_Data/dataframeColumnNames_recentlySold.csv', 'w', newline='') as file:\n",
    "    writer = csv.writer(file)\n",
    "    writer.writerows(columnNames_recentlySold)"
   ]
  },
  {
   "cell_type": "code",
   "execution_count": 667,
   "metadata": {},
   "outputs": [],
   "source": [
    "# Manually select column names I want to keep in my downsized data frame\n",
    "columnNames_forSale = ['zpid','homeType','homeStatus','timeOnZillow.1','price','streetAddress','zipcode','yearBuilt','bedrooms','bathrooms',\n",
    "                       'livingAreaValue','livingAreaUnits','lotAreaValue','lotAreaUnits','zestimate','latitude','longitude',\n",
    "                       'favoriteCount','pageViewCount',\n",
    "                       'newConstructionType','resoFacts.associationFee','listingSubType.isForeclosure','resoFacts.isSeniorCommunity','resoFacts.propertySubType','hdpUrl']\n",
    "\n",
    "columnNames_recentlySold = ['zpid','homeType','homeStatus','dateSoldString','timeOnZillow.1','price','streetAddress','zipcode','yearBuilt','bathrooms','bedrooms',\n",
    "                            'livingAreaValue','livingAreaUnits','lotAreaValue','lotAreaUnits','zestimate','latitude','longitude',\n",
    "                            'favoriteCount','pageViewCount',\n",
    "                            'newConstructionType','resoFacts.associationFee','listingSubType.isForeclosure','resoFacts.isSeniorCommunity', 'resoFacts.propertySubType','hdpUrl']\n",
    "\n",
    "df_forSale_trunc = df_forSale.loc[:,columnNames_forSale]\n",
    "df_recentlySold_trunc = df_recentlySold.loc[:,columnNames_recentlySold]\n",
    "# del df_forSale, df_recentlySold"
   ]
  },
  {
   "cell_type": "code",
   "execution_count": 668,
   "metadata": {},
   "outputs": [],
   "source": [
    "# Do some initial data cleanup\n",
    "# Set NaN values to 0. Compute quivalent monthly HOA fees to keep data consistent.\n",
    "df_forSale_trunc['resoFacts.associationFee'] = df_forSale_trunc['resoFacts.associationFee'].fillna(0)\n",
    "df_recentlySold_trunc['resoFacts.associationFee'] = df_recentlySold_trunc['resoFacts.associationFee'].fillna(0)\n",
    "df_forSale_trunc['resoFacts.associationFee'] = hoaFees(df_forSale_trunc['resoFacts.associationFee'])\n",
    "df_recentlySold_trunc['resoFacts.associationFee'] = hoaFees(df_recentlySold_trunc['resoFacts.associationFee'])\n",
    "\n",
    "# Set NaN values to 'False'. True is already designated by default, where applicable.\n",
    "df_forSale_trunc['resoFacts.isSeniorCommunity'] = df_forSale_trunc['resoFacts.isSeniorCommunity'].fillna(False)\n",
    "df_recentlySold_trunc['resoFacts.isSeniorCommunity'] = df_recentlySold_trunc['resoFacts.isSeniorCommunity'].fillna(False)\n",
    "\n",
    "# Reformat the string representing the property subtype so it can be easily worked on.\n",
    "# Removing any RV Community data as it is not a valid 'single family home' sub type for this scope.\n",
    "df_forSale_trunc['resoFacts.propertySubType'] = df_forSale_trunc['resoFacts.propertySubType'].apply(lambda x: str(x).strip(\"['']\"))\n",
    "df_recentlySold_trunc['resoFacts.propertySubType'] = df_recentlySold_trunc['resoFacts.propertySubType'].apply(lambda x: str(x).strip(\"['']\"))\n",
    "df_forSale_trunc = df_forSale_trunc.loc[df_forSale_trunc['resoFacts.propertySubType']!='RV Community']\n",
    "df_recentlySold_trunc = df_recentlySold_trunc.loc[df_recentlySold_trunc['resoFacts.propertySubType']!='RV Community']\n",
    "\n",
    "# Add prefix to website\n",
    "df_forSale_trunc['hdpUrl']=df_forSale_trunc['hdpUrl'].apply(fullURL)\n",
    "df_recentlySold_trunc['hdpUrl']=df_recentlySold_trunc['hdpUrl'].apply(fullURL)\n",
    "\n",
    "# Convert yearBuilt to integer and drop any rows that have yearBuilt as NaN\n",
    "df_forSale_trunc.dropna(subset=['yearBuilt'], inplace=True)\n",
    "df_recentlySold_trunc.dropna(subset=['yearBuilt'], inplace=True)\n",
    "df_forSale_trunc['yearBuilt']=df_forSale_trunc['yearBuilt'].astype(int)\n",
    "df_recentlySold_trunc['yearBuilt']=df_recentlySold_trunc['yearBuilt'].astype(int)\n",
    "\n",
    "# Drop all labels with lotAreaValue = NaN\n",
    "df_forSale_trunc.dropna(subset=['lotAreaValue'], inplace=True)\n",
    "df_recentlySold_trunc.dropna(subset=['lotAreaValue'], inplace=True)\n",
    "\n",
    "# Drop all labels with lat/long = NaN\n",
    "df_forSale_trunc.dropna(subset=['latitude', 'longitude'], inplace=True)\n",
    "df_recentlySold_trunc.dropna(subset=['latitude', 'longitude'], inplace=True)\n",
    "\n",
    "'''\n",
    "Switch zestimate value from 0 to list price\n",
    "Shown in EDA section, list price and zestimate are almost 1:1 correlated.\n",
    "'''\n",
    "indexList = df_forSale_trunc.index[df_forSale_trunc['zestimate'].isna()].tolist()\n",
    "df_forSale_trunc.loc[indexList, 'zestimate'] = df_forSale_trunc.loc[indexList, 'price']\n",
    "indexList = df_recentlySold_trunc.index[df_recentlySold_trunc['zestimate'].isna()].tolist()\n",
    "df_recentlySold_trunc.loc[indexList, 'zestimate'] = df_recentlySold_trunc.loc[indexList, 'price']\n",
    "# df_forSale_trunc.fillna(value=value, inplace=True)\n",
    "# df_recentlySold_trunc.fillna(value=value, inplace=True)\n",
    "'''End of zestimate update section'''\n",
    "\n",
    "# Drop all labels with livingAreaValue = NaN -- This is the primary feature for price prediction.\n",
    "# Could try to do more searches on $/sqft but for now this will suffice.\n",
    "df_forSale_trunc.dropna(subset=['livingAreaValue'], inplace=True)\n",
    "df_recentlySold_trunc.dropna(subset=['livingAreaValue'], inplace=True)\n",
    "\n",
    "# Drop all livingAreaValue rows == 0. Zero here will cause inf. on price/sqft calc. <- breaks feature scaling and model building.\n",
    "df_forSale_trunc = df_forSale_trunc.loc[df_forSale_trunc['livingAreaValue']>=500]\n",
    "df_recentlySold_trunc = df_recentlySold_trunc.loc[df_recentlySold_trunc['livingAreaValue']>=500]\n",
    "\n",
    "# Drop all bathroom and bedroom values of NaN\n",
    "df_forSale_trunc.dropna(subset=['bathrooms', 'bedrooms'], inplace=True)\n",
    "df_recentlySold_trunc.dropna(subset=['bathrooms', 'bedrooms'], inplace=True)\n",
    "\n",
    "# Fill favoriteCount and pageViewCount with 0\n",
    "value = {'favoriteCount':0, 'pageViewCount':0}\n",
    "df_forSale_trunc.fillna(value=value, inplace=True)\n",
    "df_recentlySold_trunc.fillna(value=value, inplace=True)\n",
    "\n",
    "# Need to set all timeOnZillow.1 values of less than one day to one day.\n",
    "df_recentlySold_trunc['timeOnZillow.1'].mask(df_recentlySold_trunc['dateSoldString']=='2024-02-15', '1 day', inplace=True)\n",
    "df_recentlySold_trunc['timeOnZillow.1'] = df_recentlySold_trunc['timeOnZillow.1'].apply(timeOnZillowConversion)\n",
    "df_forSale_trunc['timeOnZillow.1'] = df_forSale_trunc['timeOnZillow.1'].apply(timeOnZillowConversion)\n",
    "df_forSale_trunc['timeOnZillow.1'] = df_forSale_trunc['timeOnZillow.1'].apply(lambda x: x.strip(' days')).astype(int)\n",
    "df_recentlySold_trunc['timeOnZillow.1'] = df_recentlySold_trunc['timeOnZillow.1'].apply(lambda x: x.strip(' days')).astype(int)\n",
    "df_recentlySold_trunc.rename(columns={'timeOnZillow.1':'daysOnZillow'}, inplace=True)\n",
    "df_forSale_trunc.rename(columns={'timeOnZillow.1':'daysOnZillow'}, inplace=True)\n",
    "\n",
    "# Need to set newConstructionType to either True of False\n",
    "df_recentlySold_trunc['newConstructionType'] = df_recentlySold_trunc['newConstructionType'].apply(lambda x: str(x))\n",
    "df_recentlySold_trunc['newConstructionType'] = df_recentlySold_trunc['newConstructionType']!='nan'\n",
    "\n",
    "# Need to keep lotAreaUnits and livingAreaUnits consistently set to Square Feet.\n",
    "# Will need to create a function to deal with these.\n",
    "df_forSale_trunc[['lotAreaValue','lotAreaUnits']] = areaUnitConversion(df_forSale_trunc[['lotAreaValue','lotAreaUnits']])\n",
    "df_recentlySold_trunc[['lotAreaValue','lotAreaUnits']] = areaUnitConversion(df_recentlySold_trunc[['lotAreaValue','lotAreaUnits']])\n",
    "\n",
    "# Convert dateSoldString to datetime object\n",
    "df_recentlySold_trunc['dateSoldString'] = pd.to_datetime(df_recentlySold_trunc['dateSoldString'])\n",
    "\n",
    "'''Creating new feature -- price/sqft'''\n",
    "df_forSale_trunc['price/sqft'] = df_forSale_trunc['price'].astype(float)/df_forSale_trunc['livingAreaValue'].astype(float)\n",
    "df_recentlySold_trunc['price/sqft'] = df_recentlySold_trunc['price'].astype(float)/df_recentlySold_trunc['livingAreaValue'].astype(float)\n",
    "\n",
    "df_forSale_trunc.rename(columns={'price':'listPrice'}, inplace=True)\n",
    "\n",
    "df_forSale_trunc['zipcode'] = df_forSale_trunc['zipcode'].astype(int)\n",
    "df_recentlySold_trunc['zipcode'] = df_recentlySold_trunc['zipcode'].astype(int)"
   ]
  },
  {
   "cell_type": "code",
   "execution_count": 669,
   "metadata": {},
   "outputs": [],
   "source": [
    "# Reset Index\n",
    "df_forSale_trunc.reset_index(inplace=True)\n",
    "df_forSale_trunc.drop(columns=['index'], inplace=True)\n",
    "\n",
    "df_recentlySold_trunc.reset_index(inplace=True)\n",
    "df_recentlySold_trunc.drop(columns=['index'], inplace=True)"
   ]
  },
  {
   "cell_type": "code",
   "execution_count": 670,
   "metadata": {},
   "outputs": [
    {
     "data": {
      "image/png": "[encoded data removed]",
      "text/plain": [
       "<Figure size 1000x700 with 1 Axes>"
      ]
     },
     "metadata": {},
     "output_type": "display_data"
    }
   ],
   "source": [
    "# Create box plot for all numeric data. Check for outliers.\n",
    "\n",
    "fig = plt.figure(figsize =(10, 7))\n",
    "ax = fig.add_subplot(111)\n",
    "ax.boxplot(df_recentlySold_trunc[['price','yearBuilt','livingAreaValue','price/sqft']], vert=False)\n",
    "ax.set_yticklabels(['price','yearBuilt','livingAreaValue','price/sqft'])\n",
    "plt.show()"
   ]
  },
  {
   "cell_type": "code",
   "execution_count": null,
   "metadata": {},
   "outputs": [],
   "source": []
  },
  {
   "cell_type": "code",
   "execution_count": 671,
   "metadata": {},
   "outputs": [],
   "source": [
    "'''\n",
    "Check for outliers in list price and sold price.\n",
    "'''\n",
    "df_recentlySold_trunc.sort_values(by='price', inplace=True)\n",
    "soldPrice = df_recentlySold_trunc[['zipcode','price']]\n",
    "outlierBoolean = outliers(soldPrice, column='price')\n",
    "df_recentlySold_trunc.insert(5, \"priceOutlier\", outlierBoolean, True)"
   ]
  },
  {
   "cell_type": "code",
   "execution_count": 672,
   "metadata": {},
   "outputs": [],
   "source": [
    "# df_forSale_trunc.describe(include='all')"
   ]
  },
  {
   "cell_type": "code",
   "execution_count": 673,
   "metadata": {},
   "outputs": [],
   "source": [
    "# df_recentlySold_trunc.describe(include='all')"
   ]
  },
  {
   "cell_type": "markdown",
   "metadata": {},
   "source": [
    "---\n",
    "Follow the **five** steps found in the **Data Detox** Towards Data Science article.\n",
    "1) Check data types and nulls - DONE\n",
    "2) Check for duplicate entries - DONE\n",
    "3) Check for unnecessary white space\n",
    "4) Check min and max values\n",
    "5) Check for outliers"
   ]
  },
  {
   "cell_type": "code",
   "execution_count": 674,
   "metadata": {},
   "outputs": [],
   "source": [
    "# # Create box plot for all numeric data. Check for outliers.\n",
    "\n",
    "# fig = plt.figure(figsize =(10, 7))\n",
    "# ax = fig.add_subplot(111)\n",
    "# ax.boxplot(df_forSale_trunc[['listPrice','yearBuilt','livingAreaValue','price/sqft']], vert=False)\n",
    "# ax.set_yticklabels(['listPrice','yearBuilt','livingAreaValue','price/sqft'])\n",
    "# plt.show()"
   ]
  },
  {
   "cell_type": "code",
   "execution_count": 675,
   "metadata": {},
   "outputs": [],
   "source": [
    "# # Create box plot for all numeric data. Check for outliers.\n",
    "\n",
    "# fig = plt.figure(figsize =(10, 7))\n",
    "# ax = fig.add_subplot(111)\n",
    "# ax.boxplot(df_recentlySold_trunc[['price','yearBuilt','livingAreaValue','price/sqft']], vert=False)\n",
    "# ax.set_yticklabels(['price','yearBuilt','livingAreaValue','price/sqft'])\n",
    "# plt.show()"
   ]
  },
  {
   "cell_type": "code",
   "execution_count": 676,
   "metadata": {},
   "outputs": [],
   "source": [
    "# df_forSale_trunc.info()"
   ]
  },
  {
   "cell_type": "code",
   "execution_count": 677,
   "metadata": {},
   "outputs": [],
   "source": [
    "# df_recentlySold_trunc.info()"
   ]
  },
  {
   "cell_type": "code",
   "execution_count": 678,
   "metadata": {},
   "outputs": [],
   "source": [
    "# for column_ in df_forSale_trunc.columns:\n",
    "#     nullValueCount = df_forSale_trunc[column_].isnull().sum()\n",
    "#     print(f'Number of NaN values in {column_}: {nullValueCount}')"
   ]
  },
  {
   "cell_type": "code",
   "execution_count": 679,
   "metadata": {},
   "outputs": [],
   "source": [
    "# for column_ in df_recentlySold_trunc.columns:\n",
    "#     nullValueCount = df_recentlySold_trunc[column_].isnull().sum()\n",
    "#     print(f'Number of NaN values in {column_}: {nullValueCount}')"
   ]
  },
  {
   "cell_type": "code",
   "execution_count": 680,
   "metadata": {},
   "outputs": [],
   "source": [
    "# # Check for duplicates\n",
    "# print(f'There are {df_forSale_trunc.listPrice.loc[df_forSale_trunc.duplicated()].count()} duplicates in df_forSale_trunc.')\n",
    "# print(f'There are {df_recentlySold_trunc.price.loc[df_recentlySold_trunc.duplicated()].count()} duplicates in df_recentlySold_trunc.')"
   ]
  },
  {
   "cell_type": "code",
   "execution_count": 681,
   "metadata": {},
   "outputs": [],
   "source": [
    "# '''\n",
    "# Check for outliers in list price and sold price.\n",
    "# '''\n",
    "# df_recentlySold_trunc.sort_values(by='price', inplace=True)\n",
    "# soldPrice = df_recentlySold_trunc['price']\n",
    "# outlierBoolean = outliers(soldPrice)\n",
    "# df_recentlySold_trunc.insert(5, \"priceOutlier\", outlierBoolean, True)\n",
    "\n",
    "# print(np.array(outlierBoolean).sum())\n",
    "\n",
    "# df_forSale_trunc.sort_values(by='listPrice', inplace=True)\n",
    "# listedPrice = df_forSale_trunc['listPrice']\n",
    "# outlierBoolean = outliers(listedPrice)\n",
    "# df_forSale_trunc.insert(4, \"priceOutlier\", outlierBoolean, True)\n",
    "\n",
    "# print(np.array(outlierBoolean).sum())"
   ]
  },
  {
   "cell_type": "code",
   "execution_count": 682,
   "metadata": {},
   "outputs": [
    {
     "data": {
      "image/png": "[encoded data removed]",
      "text/plain": [
       "<Figure size 1000x700 with 1 Axes>"
      ]
     },
     "metadata": {},
     "output_type": "display_data"
    }
   ],
   "source": [
    "# Create box plot for all numeric data. Check for outliers.\n",
    "\n",
    "fig = plt.figure(figsize =(10, 7))\n",
    "ax = fig.add_subplot(111)\n",
    "ax.boxplot(df_recentlySold_trunc[['yearBuilt','livingAreaValue','price/sqft']], vert=False)\n",
    "ax.set_yticklabels(['yearBuilt','livingAreaValue','price/sqft'])\n",
    "plt.show()"
   ]
  },
  {
   "cell_type": "code",
   "execution_count": 683,
   "metadata": {},
   "outputs": [],
   "source": [
    "# Export dataframes to csv\n",
    "df_forSale_trunc.to_csv('cleaned_forSale_data.csv', sep=',', index=True, encoding='utf-8')\n",
    "df_recentlySold_trunc.to_csv('cleaned_recentlySold_data.csv', sep=',', index=True, encoding='utf-8')"
   ]
  },
  {
   "cell_type": "code",
   "execution_count": 684,
   "metadata": {},
   "outputs": [],
   "source": [
    "del df_forSale_trunc, df_recentlySold_trunc"
   ]
  }
 ],
 "metadata": {
  "kernelspec": {
   "display_name": "DataSciencePy38",
   "language": "python",
   "name": "python3"
  },
  "language_info": {
   "codemirror_mode": {
    "name": "ipython",
    "version": 3
   },
   "file_extension": ".py",
   "mimetype": "text/x-python",
   "name": "python",
   "nbconvert_exporter": "python",
   "pygments_lexer": "ipython3",
   "version": "3.8.16"
  }
 },
 "nbformat": 4,
 "nbformat_minor": 2
}
