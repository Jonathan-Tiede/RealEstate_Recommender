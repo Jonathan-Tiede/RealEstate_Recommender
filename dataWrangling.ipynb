{
 "cells": [
  {
   "cell_type": "code",
   "execution_count": 70,
   "metadata": {},
   "outputs": [],
   "source": [
    "# This notebook will take the housing data scraped earlier and clean/format it for further investigation.\n",
    "import pandas as pd\n",
    "import numpy as np\n",
    "import csv\n",
    "\n",
    "pd.options.display.max_columns = None"
   ]
  },
  {
   "cell_type": "code",
   "execution_count": 71,
   "metadata": {},
   "outputs": [],
   "source": [
    "priceRange = [\n",
    "    [1, 250000], [250001, 300000], [300001, 350000], [350001, 400000],\n",
    "    [400001, 450000], [450001, 500000], [500001, 750000], [750001, 1000000],\n",
    "    [1000001, 2000000], [2000001, 5000000], [5000001, 50000000]\n",
    "    ]"
   ]
  },
  {
   "cell_type": "code",
   "execution_count": 78,
   "metadata": {},
   "outputs": [],
   "source": [
    "for i, price in enumerate(priceRange):\n",
    "    if i == 0:\n",
    "        df_forSale = pd.read_csv(f'Raw_Housing_Data/housingData_{price[0]}_{price[1]}.csv',\n",
    "                                 index_col=0)\n",
    "        df_recentlySold = pd.read_csv(f'Raw_Housing_Data/housingData_recentlySold_{price[0]}_{price[1]}.csv',\n",
    "                                      index_col=0)\n",
    "    else:\n",
    "        df_forSale = pd.concat([df_forSale, pd.read_csv(f'Raw_Housing_Data/housingData_{price[0]}_{price[1]}.csv',\n",
    "                                                        index_col=0)], axis=0, ignore_index=False)\n",
    "        df_recentlySold = pd.concat([df_recentlySold, pd.read_csv(f'Raw_Housing_Data/housingData_recentlySold_{price[0]}_{price[1]}.csv',\n",
    "                                                                  index_col=0)], axis=0, ignore_index=False)"
   ]
  },
  {
   "cell_type": "code",
   "execution_count": 79,
   "metadata": {},
   "outputs": [],
   "source": [
    "columnNames_forSale = list(map(lambda x: x.split(', '), df_forSale.columns))\n",
    "columnNames_recentlySold = list(map(lambda x: x.split(','), df_recentlySold))\n",
    "\n",
    "with open('Raw_Housing_Data/dataframeColumnNames_forSale.csv', 'w', newline='') as file:\n",
    "    writer = csv.writer(file)\n",
    "    writer.writerows(columnNames_forSale)\n",
    "\n",
    "with open('Raw_Housing_Data/dataframeColumnNames_recentlySold.csv', 'w', newline='') as file:\n",
    "    writer = csv.writer(file)\n",
    "    writer.writerows(columnNames_recentlySold)"
   ]
  },
  {
   "cell_type": "code",
   "execution_count": 85,
   "metadata": {},
   "outputs": [],
   "source": [
    "# Manually select column names I want to keep in my downsized data frame\n",
    "columnNames_forSale = ['price','bathrooms','bedrooms','daysOnZillow','homeStatus','homeType','latitude','livingArea',\n",
    "               'longitude','lotAreaUnit','lotAreaValue','streetAddress','zipcode','zpid','favoriteCount',\n",
    "               'hdpUrl','livingAreaUnits','livingAreaValue','lotAreaUnits','lotSize','mlsid','monthlyHoaFee',\n",
    "               'pageViewCount','sellingSoon','solarPotential','timeOnZillow.1','yearBuilt','attributionInfo.agentName',\n",
    "               'attributionInfo.agentPhoneNumber','listingSubType.isForeclosure','resoFacts.associationFee','resoFacts.isSeniorCommunity']\n",
    "columnNames_recentlySold = ['dateSoldString','bathrooms','bedrooms','daysOnZillow','homeStatus','homeType','latitude','livingArea',\n",
    "               'longitude','lotAreaUnit','lotAreaValue','price','streetAddress','zipcode','zpid','favoriteCount',\n",
    "               'hdpUrl','livingAreaUnits','livingAreaValue','lotAreaUnits','lotSize','mlsid','monthlyHoaFee',\n",
    "               'pageViewCount','sellingSoon','solarPotential','timeOnZillow.1','yearBuilt','attributionInfo.agentName',\n",
    "               'attributionInfo.agentPhoneNumber','listingSubType.isForeclosure','resoFacts.associationFee','resoFacts.isSeniorCommunity']\n",
    "\n",
    "df_forSale_trunc = df_forSale.loc[:,columnNames_forSale]\n",
    "df_recentlySold_trunc = df_recentlySold.loc[:,columnNames_recentlySold]"
   ]
  },
  {
   "cell_type": "code",
   "execution_count": 89,
   "metadata": {},
   "outputs": [
    {
     "data": {
      "text/plain": [
       "(2722, 32)"
      ]
     },
     "execution_count": 89,
     "metadata": {},
     "output_type": "execute_result"
    }
   ],
   "source": [
    "df_forSale_trunc.shape"
   ]
  },
  {
   "cell_type": "code",
   "execution_count": 90,
   "metadata": {},
   "outputs": [
    {
     "data": {
      "text/plain": [
       "(6393, 33)"
      ]
     },
     "execution_count": 90,
     "metadata": {},
     "output_type": "execute_result"
    }
   ],
   "source": [
    "df_recentlySold_trunc.shape"
   ]
  },
  {
   "cell_type": "code",
   "execution_count": 91,
   "metadata": {},
   "outputs": [],
   "source": [
    "del df_forSale, df_recentlySold"
   ]
  }
 ],
 "metadata": {
  "kernelspec": {
   "display_name": "DataSciencePy38",
   "language": "python",
   "name": "python3"
  },
  "language_info": {
   "codemirror_mode": {
    "name": "ipython",
    "version": 3
   },
   "file_extension": ".py",
   "mimetype": "text/x-python",
   "name": "python",
   "nbconvert_exporter": "python",
   "pygments_lexer": "ipython3",
   "version": "3.8.16"
  }
 },
 "nbformat": 4,
 "nbformat_minor": 2
}
