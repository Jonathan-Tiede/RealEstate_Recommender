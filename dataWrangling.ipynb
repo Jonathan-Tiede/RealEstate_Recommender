{
 "cells": [
  {
   "cell_type": "code",
   "execution_count": 15,
   "metadata": {},
   "outputs": [],
   "source": [
    "# This notebook will take the housing data scraped earlier and clean/format it for further investigation.\n",
    "import pandas as pd\n",
    "\n",
    "pd.options.display.max_columns = None"
   ]
  },
  {
   "cell_type": "code",
   "execution_count": 16,
   "metadata": {},
   "outputs": [],
   "source": [
    "priceRange = [\n",
    "    [1, 250000], [250001, 300000], [300001, 350000], [350001, 400000],\n",
    "    [400001, 450000], [450001, 500000], [500001, 750000], [750001, 1000000],\n",
    "    [1000001, 2000000], [2000001, 5000000], [5000001, 50000000]\n",
    "    ]"
   ]
  },
  {
   "cell_type": "code",
   "execution_count": 17,
   "metadata": {},
   "outputs": [],
   "source": [
    "for i, price in enumerate(priceRange):\n",
    "    if i == 0:\n",
    "        df = pd.read_csv(f'housingData_{price[0]}_{price[1]}.csv', index_col=0)\n",
    "    else:\n",
    "        df = pd.concat([df, pd.read_csv(f'housingData_{price[0]}_{price[1]}.csv', index_col=0)], axis=0, ignore_index=False)"
   ]
  },
  {
   "cell_type": "code",
   "execution_count": 19,
   "metadata": {},
   "outputs": [
    {
     "data": {
      "text/plain": [
       "(2722, 636)"
      ]
     },
     "execution_count": 19,
     "metadata": {},
     "output_type": "execute_result"
    }
   ],
   "source": [
    "df.shape"
   ]
  },
  {
   "cell_type": "code",
   "execution_count": 7,
   "metadata": {},
   "outputs": [],
   "source": [
    "del df"
   ]
  }
 ],
 "metadata": {
  "kernelspec": {
   "display_name": "DataSciencePy38",
   "language": "python",
   "name": "python3"
  },
  "language_info": {
   "codemirror_mode": {
    "name": "ipython",
    "version": 3
   },
   "file_extension": ".py",
   "mimetype": "text/x-python",
   "name": "python",
   "nbconvert_exporter": "python",
   "pygments_lexer": "ipython3",
   "version": "3.8.16"
  }
 },
 "nbformat": 4,
 "nbformat_minor": 2
}
