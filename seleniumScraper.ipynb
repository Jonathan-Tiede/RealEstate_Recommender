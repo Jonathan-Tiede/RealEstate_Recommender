{
 "cells": [
  {
   "cell_type": "code",
   "execution_count": 16,
   "metadata": {},
   "outputs": [],
   "source": [
    "from selenium import webdriver\n",
    "from selenium.webdriver.common.by import By\n",
    "import pandas as pd"
   ]
  },
  {
   "cell_type": "code",
   "execution_count": 17,
   "metadata": {},
   "outputs": [
    {
     "name": "stdout",
     "output_type": "stream",
     "text": [
      "[]\n"
     ]
    }
   ],
   "source": [
    "# url = 'https://www.youtube.com/@djmissmonique/videos'\n",
    "# url = 'https://www.realtor.com/realestateandhomes-search/Brevard-County_FL/type-single-family-home'\n",
    "url = 'https://www.trulia.com/for_sale/12009_c/SINGLE-FAMILY_HOME_type/'\n",
    "\n",
    "driver = webdriver.Chrome()\n",
    "\n",
    "driver.get(url)\n",
    "\n",
    "# this doesn't grab all data. need to add selenium infinite scroll stuff to this to capture more.\n",
    "# videos = driver.find_elements(By.CLASS_NAME, 'style-scope ytd-rich-grid-media')\n",
    "searchTitle = driver.find_elements(By.CLASS_NAME, 'sc-259f2640-2 fuAVSm')\n",
    "print(searchTitle)\n",
    "\n",
    "# videoList = []\n",
    "\n",
    "# for video in videos:\n",
    "#     title = video.find_element(By.XPATH, './/*[@id=\"video-title\"]').text # . before the // means it will search within the CLASS_NAME element instead of the entire page.\n",
    "#     views = video.find_element(By.XPATH, './/*[@id=\"metadata-line\"]/span[1]').text\n",
    "#     postDate = video.find_element(By.XPATH, './/*[@id=\"metadata-line\"]/span[2]').text\n",
    "#     videoInfo = {\n",
    "#         'title':title,\n",
    "#         'view count':views,\n",
    "#         'time on YT':postDate\n",
    "#     }\n",
    "#     videoList.append(videoInfo)\n",
    "\n",
    "# df = pd.DataFrame(videoList)\n",
    "\n",
    "driver.close()"
   ]
  },
  {
   "cell_type": "code",
   "execution_count": 18,
   "metadata": {},
   "outputs": [
    {
     "data": {
      "text/plain": [
       "(28, 3)"
      ]
     },
     "execution_count": 18,
     "metadata": {},
     "output_type": "execute_result"
    }
   ],
   "source": [
    "df.shape"
   ]
  }
 ],
 "metadata": {
  "kernelspec": {
   "display_name": "DataSciencePy38",
   "language": "python",
   "name": "python3"
  },
  "language_info": {
   "codemirror_mode": {
    "name": "ipython",
    "version": 3
   },
   "file_extension": ".py",
   "mimetype": "text/x-python",
   "name": "python",
   "nbconvert_exporter": "python",
   "pygments_lexer": "ipython3",
   "version": "3.8.16"
  }
 },
 "nbformat": 4,
 "nbformat_minor": 2
}
