{
 "cells": [
  {
   "cell_type": "markdown",
   "metadata": {},
   "source": [
    "# To Do Here\n",
    "\n",
    "## This notebook will create a plotly dashboard to visualize the following:\n",
    "1) Map with top X homes by value --> max(predicted value - list price)\n",
    "    1) Hover over icon to get some details like beds/baths/sqft\n",
    "2) Ranked list of the homes in the map with links to the zillow page\n",
    "3) Any applicable visuals from EDA or additional insights like if region is worth buying in.\n",
    "4) **** Super Nice to Have **** --> Select dropdown list to choose county and the script will rerun all of the above for county selected.\n",
    "5) **** Super Nice to Have **** --> Find a way to host the Plotly dashboard online (likely need to buy website... how to launch???)\n",
    "\n",
    "- Make sure you discuss the zestimate/list/sale price relationship discovered in EDA.\n",
    "- Plotly dashboard should include options for user to select recently sold or for sale. Should select zipcode of interest as well"
   ]
  }
 ],
 "metadata": {
  "language_info": {
   "name": "python"
  }
 },
 "nbformat": 4,
 "nbformat_minor": 2
}
