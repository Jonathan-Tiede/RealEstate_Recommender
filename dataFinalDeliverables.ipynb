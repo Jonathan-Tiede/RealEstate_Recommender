{
 "cells": [
  {
   "cell_type": "code",
   "execution_count": null,
   "metadata": {},
   "outputs": [],
   "source": [
    "# This notebook will create a plotly dashboard to visualize the following:\n",
    "#   1) Map with top X homes by value --> max(predicted value - list price)\n",
    "#       1) Hover over icon to get some details like beds/baths/sqft\n",
    "#   2) Ranked list of the homes in the map with links to the zillow page\n",
    "#   3) Any applicable visuals from EDA or additional insights like if region is worth buying in.\n",
    "#   4) **** Super Nice to Have **** --> Select dropdown list to choose county and the script will rerun all of the above for county selected.\n",
    "#   5) **** Super Nice to Have **** --> Find a way to host the Plotly dashboard online (likely need to buy website... how to launch???)"
   ]
  }
 ],
 "metadata": {
  "language_info": {
   "name": "python"
  }
 },
 "nbformat": 4,
 "nbformat_minor": 2
}
